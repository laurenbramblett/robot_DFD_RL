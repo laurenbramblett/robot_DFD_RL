{
 "cells": [
  {
   "cell_type": "code",
   "execution_count": 1,
   "id": "e3e71fcb",
   "metadata": {},
   "outputs": [],
   "source": [
    "import pandas as pd\n",
    "import numpy as np\n",
    "import matplotlib.pyplot as plt\n",
    "import seaborn as sns\n",
    "\n",
    "%matplotlib notebook\n",
    "plt.style.use('bmh')"
   ]
  },
  {
   "cell_type": "code",
   "execution_count": 11,
   "id": "8e74f755",
   "metadata": {},
   "outputs": [
    {
     "data": {
      "text/html": [
       "<div>\n",
       "<style scoped>\n",
       "    .dataframe tbody tr th:only-of-type {\n",
       "        vertical-align: middle;\n",
       "    }\n",
       "\n",
       "    .dataframe tbody tr th {\n",
       "        vertical-align: top;\n",
       "    }\n",
       "\n",
       "    .dataframe thead th {\n",
       "        text-align: right;\n",
       "    }\n",
       "</style>\n",
       "<table border=\"1\" class=\"dataframe\">\n",
       "  <thead>\n",
       "    <tr style=\"text-align: right;\">\n",
       "      <th></th>\n",
       "      <th>Batch Size</th>\n",
       "      <th>HL_Scaler</th>\n",
       "      <th>Learning Rate</th>\n",
       "      <th>Training Score</th>\n",
       "      <th>Testing Score</th>\n",
       "      <th>NN Controller Pass Count</th>\n",
       "      <th>NN AVG Controller Iterations</th>\n",
       "    </tr>\n",
       "  </thead>\n",
       "  <tbody>\n",
       "    <tr>\n",
       "      <th>count</th>\n",
       "      <td>12.00000</td>\n",
       "      <td>12.000000</td>\n",
       "      <td>12.0000</td>\n",
       "      <td>12.000000</td>\n",
       "      <td>12.000000</td>\n",
       "      <td>12.000000</td>\n",
       "      <td>12.000000</td>\n",
       "    </tr>\n",
       "    <tr>\n",
       "      <th>mean</th>\n",
       "      <td>96.00000</td>\n",
       "      <td>2.333333</td>\n",
       "      <td>0.0055</td>\n",
       "      <td>0.006646</td>\n",
       "      <td>0.009482</td>\n",
       "      <td>21.333333</td>\n",
       "      <td>1818.745833</td>\n",
       "    </tr>\n",
       "    <tr>\n",
       "      <th>std</th>\n",
       "      <td>33.42291</td>\n",
       "      <td>1.302678</td>\n",
       "      <td>0.0047</td>\n",
       "      <td>0.003170</td>\n",
       "      <td>0.001519</td>\n",
       "      <td>4.978743</td>\n",
       "      <td>89.565363</td>\n",
       "    </tr>\n",
       "    <tr>\n",
       "      <th>min</th>\n",
       "      <td>64.00000</td>\n",
       "      <td>1.000000</td>\n",
       "      <td>0.0010</td>\n",
       "      <td>0.003100</td>\n",
       "      <td>0.007791</td>\n",
       "      <td>10.000000</td>\n",
       "      <td>1618.166667</td>\n",
       "    </tr>\n",
       "    <tr>\n",
       "      <th>25%</th>\n",
       "      <td>64.00000</td>\n",
       "      <td>1.000000</td>\n",
       "      <td>0.0010</td>\n",
       "      <td>0.003725</td>\n",
       "      <td>0.008068</td>\n",
       "      <td>18.750000</td>\n",
       "      <td>1782.329167</td>\n",
       "    </tr>\n",
       "    <tr>\n",
       "      <th>50%</th>\n",
       "      <td>96.00000</td>\n",
       "      <td>2.000000</td>\n",
       "      <td>0.0055</td>\n",
       "      <td>0.006424</td>\n",
       "      <td>0.009318</td>\n",
       "      <td>23.000000</td>\n",
       "      <td>1828.358333</td>\n",
       "    </tr>\n",
       "    <tr>\n",
       "      <th>75%</th>\n",
       "      <td>128.00000</td>\n",
       "      <td>4.000000</td>\n",
       "      <td>0.0100</td>\n",
       "      <td>0.009333</td>\n",
       "      <td>0.010544</td>\n",
       "      <td>25.250000</td>\n",
       "      <td>1861.566667</td>\n",
       "    </tr>\n",
       "    <tr>\n",
       "      <th>max</th>\n",
       "      <td>128.00000</td>\n",
       "      <td>4.000000</td>\n",
       "      <td>0.0100</td>\n",
       "      <td>0.010453</td>\n",
       "      <td>0.011726</td>\n",
       "      <td>26.000000</td>\n",
       "      <td>1987.166667</td>\n",
       "    </tr>\n",
       "  </tbody>\n",
       "</table>\n",
       "</div>"
      ],
      "text/plain": [
       "       Batch Size  HL_Scaler  Learning Rate  Training Score  Testing Score  \\\n",
       "count    12.00000  12.000000        12.0000       12.000000      12.000000   \n",
       "mean     96.00000   2.333333         0.0055        0.006646       0.009482   \n",
       "std      33.42291   1.302678         0.0047        0.003170       0.001519   \n",
       "min      64.00000   1.000000         0.0010        0.003100       0.007791   \n",
       "25%      64.00000   1.000000         0.0010        0.003725       0.008068   \n",
       "50%      96.00000   2.000000         0.0055        0.006424       0.009318   \n",
       "75%     128.00000   4.000000         0.0100        0.009333       0.010544   \n",
       "max     128.00000   4.000000         0.0100        0.010453       0.011726   \n",
       "\n",
       "       NN Controller Pass Count  NN AVG Controller Iterations  \n",
       "count                 12.000000                     12.000000  \n",
       "mean                  21.333333                   1818.745833  \n",
       "std                    4.978743                     89.565363  \n",
       "min                   10.000000                   1618.166667  \n",
       "25%                   18.750000                   1782.329167  \n",
       "50%                   23.000000                   1828.358333  \n",
       "75%                   25.250000                   1861.566667  \n",
       "max                   26.000000                   1987.166667  "
      ]
     },
     "execution_count": 11,
     "metadata": {},
     "output_type": "execute_result"
    }
   ],
   "source": [
    "NNData=pd.read_csv('1651894376scores.csv')\n",
    "NNData.describe()"
   ]
  },
  {
   "cell_type": "code",
   "execution_count": 12,
   "id": "17eb9485",
   "metadata": {},
   "outputs": [
    {
     "data": {
      "text/html": [
       "<div>\n",
       "<style scoped>\n",
       "    .dataframe tbody tr th:only-of-type {\n",
       "        vertical-align: middle;\n",
       "    }\n",
       "\n",
       "    .dataframe tbody tr th {\n",
       "        vertical-align: top;\n",
       "    }\n",
       "\n",
       "    .dataframe thead th {\n",
       "        text-align: right;\n",
       "    }\n",
       "</style>\n",
       "<table border=\"1\" class=\"dataframe\">\n",
       "  <thead>\n",
       "    <tr style=\"text-align: right;\">\n",
       "      <th></th>\n",
       "      <th>Success</th>\n",
       "      <th>Control Iters</th>\n",
       "      <th>World ID</th>\n",
       "    </tr>\n",
       "  </thead>\n",
       "  <tbody>\n",
       "    <tr>\n",
       "      <th>count</th>\n",
       "      <td>300.000000</td>\n",
       "      <td>300.000000</td>\n",
       "      <td>300.000000</td>\n",
       "    </tr>\n",
       "    <tr>\n",
       "      <th>mean</th>\n",
       "      <td>0.470000</td>\n",
       "      <td>1499.110000</td>\n",
       "      <td>149.500000</td>\n",
       "    </tr>\n",
       "    <tr>\n",
       "      <th>std</th>\n",
       "      <td>0.499933</td>\n",
       "      <td>809.900129</td>\n",
       "      <td>86.746758</td>\n",
       "    </tr>\n",
       "    <tr>\n",
       "      <th>min</th>\n",
       "      <td>0.000000</td>\n",
       "      <td>59.000000</td>\n",
       "      <td>0.000000</td>\n",
       "    </tr>\n",
       "    <tr>\n",
       "      <th>25%</th>\n",
       "      <td>0.000000</td>\n",
       "      <td>773.500000</td>\n",
       "      <td>74.750000</td>\n",
       "    </tr>\n",
       "    <tr>\n",
       "      <th>50%</th>\n",
       "      <td>0.000000</td>\n",
       "      <td>1670.000000</td>\n",
       "      <td>149.500000</td>\n",
       "    </tr>\n",
       "    <tr>\n",
       "      <th>75%</th>\n",
       "      <td>1.000000</td>\n",
       "      <td>2116.000000</td>\n",
       "      <td>224.250000</td>\n",
       "    </tr>\n",
       "    <tr>\n",
       "      <th>max</th>\n",
       "      <td>1.000000</td>\n",
       "      <td>3748.000000</td>\n",
       "      <td>299.000000</td>\n",
       "    </tr>\n",
       "  </tbody>\n",
       "</table>\n",
       "</div>"
      ],
      "text/plain": [
       "          Success  Control Iters    World ID\n",
       "count  300.000000     300.000000  300.000000\n",
       "mean     0.470000    1499.110000  149.500000\n",
       "std      0.499933     809.900129   86.746758\n",
       "min      0.000000      59.000000    0.000000\n",
       "25%      0.000000     773.500000   74.750000\n",
       "50%      0.000000    1670.000000  149.500000\n",
       "75%      1.000000    2116.000000  224.250000\n",
       "max      1.000000    3748.000000  299.000000"
      ]
     },
     "execution_count": 12,
     "metadata": {},
     "output_type": "execute_result"
    }
   ],
   "source": [
    "FData=pd.read_csv('forceResults.csv')\n",
    "FData.describe()"
   ]
  },
  {
   "cell_type": "markdown",
   "id": "38150582",
   "metadata": {},
   "source": [
    "# Baseline Performance of Potential Field Method:"
   ]
  },
  {
   "cell_type": "code",
   "execution_count": 17,
   "id": "7b50c7e5",
   "metadata": {},
   "outputs": [
    {
     "name": "stdout",
     "output_type": "stream",
     "text": [
      "The gradient method is succesful on 141 of 300 worlds\n"
     ]
    }
   ],
   "source": [
    "tws=FData['Success'].sum()\n",
    "\n",
    "print('The gradient method is succesful on %d of %d worlds'%(tws,FData['World ID'].count()))"
   ]
  },
  {
   "cell_type": "code",
   "execution_count": 20,
   "id": "9f27da84",
   "metadata": {},
   "outputs": [
    {
     "name": "stdout",
     "output_type": "stream",
     "text": [
      "The gradient method took an average of 1499.11 ctrl iterations to complete\n"
     ]
    }
   ],
   "source": [
    "F_avg_ctrl_iters=FData['Control Iters'].mean()\n",
    "\n",
    "print('The gradient method took an average of %0.2f ctrl iterations to complete'%F_avg_ctrl_iters)"
   ]
  },
  {
   "cell_type": "code",
   "execution_count": 25,
   "id": "b5ce12eb",
   "metadata": {},
   "outputs": [
    {
     "name": "stdout",
     "output_type": "stream",
     "text": [
      "Filtering out failed runs, the gradient method took an average of 2054.12 ctrl iterations to complete\n"
     ]
    }
   ],
   "source": [
    "SF_avg_ctrl_iters=FData[FData['Success']==1]['Control Iters'].mean()\n",
    "print('Filtering out failed runs, the gradient method took an average of %0.2f ctrl iterations to complete'%SF_avg_ctrl_iters)"
   ]
  },
  {
   "cell_type": "markdown",
   "id": "209bf87e",
   "metadata": {},
   "source": [
    "# NN Performance:"
   ]
  },
  {
   "cell_type": "code",
   "execution_count": 45,
   "id": "4a905090",
   "metadata": {},
   "outputs": [
    {
     "name": "stdout",
     "output_type": "stream",
     "text": [
      "<class 'pandas.core.frame.DataFrame'>\n",
      "   Batch Size  HL_Scaler  Learning Rate Optimizer  Training Score  \\\n",
      "3          64          2          0.001      Adam        0.003781   \n",
      "5          64          4          0.001      Adam        0.003423   \n",
      "7         128          1          0.001      Adam        0.004083   \n",
      "\n",
      "   Testing Score  NN Controller Pass Count  NN AVG Controller Iterations  \n",
      "3       0.007985                        26                   1880.583333  \n",
      "5       0.008068                        26                   1819.450000  \n",
      "7       0.008067                        26                   1837.266667  \n"
     ]
    }
   ],
   "source": [
    "best_by_test=NNData[NNData['Testing Score']==NNData['Testing Score'].min()]\n",
    "best_by_sim=NNData[NNData['NN Controller Pass Count']==NNData['NN Controller Pass Count'].max()]\n",
    "print(type(best_by_test))\n",
    "print(best_by_sim)"
   ]
  },
  {
   "cell_type": "code",
   "execution_count": 65,
   "id": "605b1854",
   "metadata": {},
   "outputs": [
    {
     "name": "stdout",
     "output_type": "stream",
     "text": [
      "According to MSE metric on Test set, the best model was: \n",
      "\t(Batch Size: 64 | Hddn Lyr Sz: 64 | Lrnng Rt: 0.0010 | AVG CTRL ITR: 1801.60 | MSE: 0.0077906 | Worlds Passed: 23)\n",
      " which passed\n",
      "According to Pass Rate in simulated Environments, the best models were: \n",
      "\t(Batch Size: 64 | Hddn Lyr Sz: 128 | Lrnng Rt: 0.0010 | AVG CTRL ITR: 1880.58 | MSE: 0.0079851 | Worlds Passed: 26)\n",
      "\t(Batch Size: 64 | Hddn Lyr Sz: 256 | Lrnng Rt: 0.0010 | AVG CTRL ITR: 1819.45 | MSE: 0.0080680 | Worlds Passed: 26)\n",
      "\t(Batch Size: 128 | Hddn Lyr Sz: 64 | Lrnng Rt: 0.0010 | AVG CTRL ITR: 1837.27 | MSE: 0.0080667 | Worlds Passed: 26)\n"
     ]
    }
   ],
   "source": [
    "def df_to_model_str(df):\n",
    "    return \"(Batch Size: %d | Hddn Lyr Sz: %d | Lrnng Rt: %0.4f | AVG CTRL ITR: %0.2f | MSE: %0.7f | Worlds Passed: %d)\"%(df['Batch Size'],64*df['HL_Scaler'],df['Learning Rate'],df['NN AVG Controller Iterations'],df['Testing Score'],df['NN Controller Pass Count'])\n",
    "    \n",
    "print(\"According to MSE metric on Test set, the best model was: \\n\\t%s\\n which passed\"%(df_to_model_str(best_by_test)))\n",
    "print(\"According to Pass Rate in simulated Environments, the best models were: \\n\\t%s\\n\\t%s\\n\\t%s\"%(df_to_model_str(best_by_sim.iloc[0]),df_to_model_str(best_by_sim.iloc[1]),df_to_model_str(best_by_sim.iloc[2])))"
   ]
  },
  {
   "cell_type": "code",
   "execution_count": null,
   "id": "a6fa78e1",
   "metadata": {},
   "outputs": [],
   "source": []
  }
 ],
 "metadata": {
  "kernelspec": {
   "display_name": "Python 3 (ipykernel)",
   "language": "python",
   "name": "python3"
  },
  "language_info": {
   "codemirror_mode": {
    "name": "ipython",
    "version": 3
   },
   "file_extension": ".py",
   "mimetype": "text/x-python",
   "name": "python",
   "nbconvert_exporter": "python",
   "pygments_lexer": "ipython3",
   "version": "3.9.7"
  }
 },
 "nbformat": 4,
 "nbformat_minor": 5
}
